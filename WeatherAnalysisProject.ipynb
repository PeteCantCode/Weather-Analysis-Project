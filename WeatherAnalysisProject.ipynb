{
 "cells": [
  {
   "cell_type": "code",
   "execution_count": 1,
   "id": "391a02f0-686b-42ba-a8a4-5eb05dbb99a2",
   "metadata": {},
   "outputs": [],
   "source": [
    "import pandas as pd \n",
    "import matplotlib.pyplot as plt\n",
    "import seaborn as sns\n",
    "#import pyodbc as odbc"
   ]
  },
  {
   "cell_type": "code",
   "execution_count": 2,
   "id": "5b4de366-ce27-42aa-8f45-9a8baee8c049",
   "metadata": {},
   "outputs": [],
   "source": [
    "data = pd.read_csv(\"S_temp_and_rain_dataset.csv\")"
   ]
  },
  {
   "cell_type": "code",
   "execution_count": 3,
   "id": "901c2b79-f499-411d-9f08-94ca9c39d78c",
   "metadata": {},
   "outputs": [
    {
     "data": {
      "text/html": [
       "<div>\n",
       "<style scoped>\n",
       "    .dataframe tbody tr th:only-of-type {\n",
       "        vertical-align: middle;\n",
       "    }\n",
       "\n",
       "    .dataframe tbody tr th {\n",
       "        vertical-align: top;\n",
       "    }\n",
       "\n",
       "    .dataframe thead th {\n",
       "        text-align: right;\n",
       "    }\n",
       "</style>\n",
       "<table border=\"1\" class=\"dataframe\">\n",
       "  <thead>\n",
       "    <tr style=\"text-align: right;\">\n",
       "      <th></th>\n",
       "      <th>temp</th>\n",
       "      <th>Month</th>\n",
       "      <th>Year</th>\n",
       "      <th>rain</th>\n",
       "    </tr>\n",
       "  </thead>\n",
       "  <tbody>\n",
       "    <tr>\n",
       "      <th>0</th>\n",
       "      <td>16.976000</td>\n",
       "      <td>1</td>\n",
       "      <td>1901</td>\n",
       "      <td>18.535600</td>\n",
       "    </tr>\n",
       "    <tr>\n",
       "      <th>1</th>\n",
       "      <td>19.902600</td>\n",
       "      <td>2</td>\n",
       "      <td>1901</td>\n",
       "      <td>16.254800</td>\n",
       "    </tr>\n",
       "    <tr>\n",
       "      <th>2</th>\n",
       "      <td>24.315800</td>\n",
       "      <td>3</td>\n",
       "      <td>1901</td>\n",
       "      <td>70.798100</td>\n",
       "    </tr>\n",
       "    <tr>\n",
       "      <th>3</th>\n",
       "      <td>28.183400</td>\n",
       "      <td>4</td>\n",
       "      <td>1901</td>\n",
       "      <td>66.161600</td>\n",
       "    </tr>\n",
       "    <tr>\n",
       "      <th>4</th>\n",
       "      <td>27.889200</td>\n",
       "      <td>5</td>\n",
       "      <td>1901</td>\n",
       "      <td>267.215000</td>\n",
       "    </tr>\n",
       "    <tr>\n",
       "      <th>...</th>\n",
       "      <td>...</td>\n",
       "      <td>...</td>\n",
       "      <td>...</td>\n",
       "      <td>...</td>\n",
       "    </tr>\n",
       "    <tr>\n",
       "      <th>1469</th>\n",
       "      <td>28.586394</td>\n",
       "      <td>6</td>\n",
       "      <td>2023</td>\n",
       "      <td>299.915166</td>\n",
       "    </tr>\n",
       "    <tr>\n",
       "      <th>1470</th>\n",
       "      <td>28.533089</td>\n",
       "      <td>7</td>\n",
       "      <td>2023</td>\n",
       "      <td>353.399033</td>\n",
       "    </tr>\n",
       "    <tr>\n",
       "      <th>1471</th>\n",
       "      <td>28.451926</td>\n",
       "      <td>8</td>\n",
       "      <td>2023</td>\n",
       "      <td>421.058714</td>\n",
       "    </tr>\n",
       "    <tr>\n",
       "      <th>1472</th>\n",
       "      <td>27.737212</td>\n",
       "      <td>9</td>\n",
       "      <td>2023</td>\n",
       "      <td>306.090925</td>\n",
       "    </tr>\n",
       "    <tr>\n",
       "      <th>1473</th>\n",
       "      <td>26.015523</td>\n",
       "      <td>10</td>\n",
       "      <td>2023</td>\n",
       "      <td>320.779073</td>\n",
       "    </tr>\n",
       "  </tbody>\n",
       "</table>\n",
       "<p>1474 rows × 4 columns</p>\n",
       "</div>"
      ],
      "text/plain": [
       "           temp  Month  Year        rain\n",
       "0     16.976000      1  1901   18.535600\n",
       "1     19.902600      2  1901   16.254800\n",
       "2     24.315800      3  1901   70.798100\n",
       "3     28.183400      4  1901   66.161600\n",
       "4     27.889200      5  1901  267.215000\n",
       "...         ...    ...   ...         ...\n",
       "1469  28.586394      6  2023  299.915166\n",
       "1470  28.533089      7  2023  353.399033\n",
       "1471  28.451926      8  2023  421.058714\n",
       "1472  27.737212      9  2023  306.090925\n",
       "1473  26.015523     10  2023  320.779073\n",
       "\n",
       "[1474 rows x 4 columns]"
      ]
     },
     "execution_count": 3,
     "metadata": {},
     "output_type": "execute_result"
    }
   ],
   "source": [
    "data"
   ]
  },
  {
   "cell_type": "code",
   "execution_count": 4,
   "id": "e23992f9-c51c-40cb-a510-aaa44899ca38",
   "metadata": {},
   "outputs": [
    {
     "data": {
      "text/html": [
       "<div>\n",
       "<style scoped>\n",
       "    .dataframe tbody tr th:only-of-type {\n",
       "        vertical-align: middle;\n",
       "    }\n",
       "\n",
       "    .dataframe tbody tr th {\n",
       "        vertical-align: top;\n",
       "    }\n",
       "\n",
       "    .dataframe thead th {\n",
       "        text-align: right;\n",
       "    }\n",
       "</style>\n",
       "<table border=\"1\" class=\"dataframe\">\n",
       "  <thead>\n",
       "    <tr style=\"text-align: right;\">\n",
       "      <th></th>\n",
       "      <th>temp</th>\n",
       "      <th>Month</th>\n",
       "      <th>Year</th>\n",
       "      <th>rain</th>\n",
       "    </tr>\n",
       "  </thead>\n",
       "  <tbody>\n",
       "    <tr>\n",
       "      <th>0</th>\n",
       "      <td>16.9760</td>\n",
       "      <td>1</td>\n",
       "      <td>1901</td>\n",
       "      <td>18.5356</td>\n",
       "    </tr>\n",
       "    <tr>\n",
       "      <th>1</th>\n",
       "      <td>19.9026</td>\n",
       "      <td>2</td>\n",
       "      <td>1901</td>\n",
       "      <td>16.2548</td>\n",
       "    </tr>\n",
       "    <tr>\n",
       "      <th>2</th>\n",
       "      <td>24.3158</td>\n",
       "      <td>3</td>\n",
       "      <td>1901</td>\n",
       "      <td>70.7981</td>\n",
       "    </tr>\n",
       "    <tr>\n",
       "      <th>3</th>\n",
       "      <td>28.1834</td>\n",
       "      <td>4</td>\n",
       "      <td>1901</td>\n",
       "      <td>66.1616</td>\n",
       "    </tr>\n",
       "    <tr>\n",
       "      <th>4</th>\n",
       "      <td>27.8892</td>\n",
       "      <td>5</td>\n",
       "      <td>1901</td>\n",
       "      <td>267.2150</td>\n",
       "    </tr>\n",
       "  </tbody>\n",
       "</table>\n",
       "</div>"
      ],
      "text/plain": [
       "      temp  Month  Year      rain\n",
       "0  16.9760      1  1901   18.5356\n",
       "1  19.9026      2  1901   16.2548\n",
       "2  24.3158      3  1901   70.7981\n",
       "3  28.1834      4  1901   66.1616\n",
       "4  27.8892      5  1901  267.2150"
      ]
     },
     "execution_count": 4,
     "metadata": {},
     "output_type": "execute_result"
    }
   ],
   "source": [
    "data.head()"
   ]
  },
  {
   "cell_type": "code",
   "execution_count": 5,
   "id": "3bf888ef-10b3-42b3-9062-49325870fff7",
   "metadata": {},
   "outputs": [
    {
     "data": {
      "text/plain": [
       "(1474, 4)"
      ]
     },
     "execution_count": 5,
     "metadata": {},
     "output_type": "execute_result"
    }
   ],
   "source": [
    "data.shape"
   ]
  },
  {
   "cell_type": "code",
   "execution_count": 6,
   "id": "c458316d-2826-4f4f-8d15-989e2f6710c6",
   "metadata": {},
   "outputs": [
    {
     "data": {
      "text/plain": [
       "RangeIndex(start=0, stop=1474, step=1)"
      ]
     },
     "execution_count": 6,
     "metadata": {},
     "output_type": "execute_result"
    }
   ],
   "source": [
    "data.index"
   ]
  },
  {
   "cell_type": "code",
   "execution_count": 7,
   "id": "25fb2d24-5d6b-4268-b0d0-a022b3261431",
   "metadata": {},
   "outputs": [
    {
     "data": {
      "text/plain": [
       "Index(['temp', 'Month', 'Year', 'rain'], dtype='object')"
      ]
     },
     "execution_count": 7,
     "metadata": {},
     "output_type": "execute_result"
    }
   ],
   "source": [
    "data.columns"
   ]
  },
  {
   "cell_type": "code",
   "execution_count": 8,
   "id": "c816ef86-a5e4-41ed-a553-1267eec112e7",
   "metadata": {},
   "outputs": [
    {
     "data": {
      "text/plain": [
       "temp     1460\n",
       "Month      12\n",
       "Year      123\n",
       "rain     1473\n",
       "dtype: int64"
      ]
     },
     "execution_count": 8,
     "metadata": {},
     "output_type": "execute_result"
    }
   ],
   "source": [
    "data.nunique()"
   ]
  },
  {
   "cell_type": "code",
   "execution_count": 9,
   "id": "818dd6a8-f007-4a02-94a3-51d02e5be3d8",
   "metadata": {},
   "outputs": [
    {
     "name": "stdout",
     "output_type": "stream",
     "text": [
      "<class 'pandas.core.frame.DataFrame'>\n",
      "RangeIndex: 1474 entries, 0 to 1473\n",
      "Data columns (total 4 columns):\n",
      " #   Column  Non-Null Count  Dtype  \n",
      "---  ------  --------------  -----  \n",
      " 0   temp    1474 non-null   float64\n",
      " 1   Month   1474 non-null   int64  \n",
      " 2   Year    1474 non-null   int64  \n",
      " 3   rain    1474 non-null   float64\n",
      "dtypes: float64(2), int64(2)\n",
      "memory usage: 46.2 KB\n"
     ]
    },
    {
     "data": {
      "text/html": [
       "<div>\n",
       "<style scoped>\n",
       "    .dataframe tbody tr th:only-of-type {\n",
       "        vertical-align: middle;\n",
       "    }\n",
       "\n",
       "    .dataframe tbody tr th {\n",
       "        vertical-align: top;\n",
       "    }\n",
       "\n",
       "    .dataframe thead th {\n",
       "        text-align: right;\n",
       "    }\n",
       "</style>\n",
       "<table border=\"1\" class=\"dataframe\">\n",
       "  <thead>\n",
       "    <tr style=\"text-align: right;\">\n",
       "      <th></th>\n",
       "      <th>temp</th>\n",
       "      <th>Month</th>\n",
       "      <th>Year</th>\n",
       "      <th>rain</th>\n",
       "    </tr>\n",
       "  </thead>\n",
       "  <tbody>\n",
       "    <tr>\n",
       "      <th>count</th>\n",
       "      <td>1474.000000</td>\n",
       "      <td>1474.000000</td>\n",
       "      <td>1474.000000</td>\n",
       "      <td>1474.000000</td>\n",
       "    </tr>\n",
       "    <tr>\n",
       "      <th>mean</th>\n",
       "      <td>25.066443</td>\n",
       "      <td>6.493216</td>\n",
       "      <td>1961.917232</td>\n",
       "      <td>202.817120</td>\n",
       "    </tr>\n",
       "    <tr>\n",
       "      <th>std</th>\n",
       "      <td>3.701075</td>\n",
       "      <td>3.450595</td>\n",
       "      <td>35.470764</td>\n",
       "      <td>200.780134</td>\n",
       "    </tr>\n",
       "    <tr>\n",
       "      <th>min</th>\n",
       "      <td>15.925161</td>\n",
       "      <td>1.000000</td>\n",
       "      <td>1901.000000</td>\n",
       "      <td>0.000000</td>\n",
       "    </tr>\n",
       "    <tr>\n",
       "      <th>25%</th>\n",
       "      <td>22.121579</td>\n",
       "      <td>3.250000</td>\n",
       "      <td>1931.000000</td>\n",
       "      <td>19.382328</td>\n",
       "    </tr>\n",
       "    <tr>\n",
       "      <th>50%</th>\n",
       "      <td>27.012950</td>\n",
       "      <td>6.000000</td>\n",
       "      <td>1962.000000</td>\n",
       "      <td>146.412000</td>\n",
       "    </tr>\n",
       "    <tr>\n",
       "      <th>75%</th>\n",
       "      <td>28.032675</td>\n",
       "      <td>9.000000</td>\n",
       "      <td>1993.000000</td>\n",
       "      <td>347.571000</td>\n",
       "    </tr>\n",
       "    <tr>\n",
       "      <th>max</th>\n",
       "      <td>29.526000</td>\n",
       "      <td>12.000000</td>\n",
       "      <td>2023.000000</td>\n",
       "      <td>1012.020000</td>\n",
       "    </tr>\n",
       "  </tbody>\n",
       "</table>\n",
       "</div>"
      ],
      "text/plain": [
       "              temp        Month         Year         rain\n",
       "count  1474.000000  1474.000000  1474.000000  1474.000000\n",
       "mean     25.066443     6.493216  1961.917232   202.817120\n",
       "std       3.701075     3.450595    35.470764   200.780134\n",
       "min      15.925161     1.000000  1901.000000     0.000000\n",
       "25%      22.121579     3.250000  1931.000000    19.382328\n",
       "50%      27.012950     6.000000  1962.000000   146.412000\n",
       "75%      28.032675     9.000000  1993.000000   347.571000\n",
       "max      29.526000    12.000000  2023.000000  1012.020000"
      ]
     },
     "execution_count": 9,
     "metadata": {},
     "output_type": "execute_result"
    }
   ],
   "source": [
    "(data.info())\n",
    "(data.describe())"
   ]
  },
  {
   "cell_type": "code",
   "execution_count": 10,
   "id": "7b704b14-c0d0-426e-8887-58cb74625443",
   "metadata": {},
   "outputs": [],
   "source": [
    "data = data.dropna()"
   ]
  },
  {
   "cell_type": "code",
   "execution_count": 11,
   "id": "918cb47f-ea7c-4c62-9d6c-9237f94d36df",
   "metadata": {},
   "outputs": [],
   "source": [
    "data = data.drop_duplicates()"
   ]
  },
  {
   "cell_type": "code",
   "execution_count": 12,
   "id": "ff964438-a51b-4ac4-b250-ab401c28f0f3",
   "metadata": {},
   "outputs": [
    {
     "data": {
      "text/html": [
       "<div>\n",
       "<style scoped>\n",
       "    .dataframe tbody tr th:only-of-type {\n",
       "        vertical-align: middle;\n",
       "    }\n",
       "\n",
       "    .dataframe tbody tr th {\n",
       "        vertical-align: top;\n",
       "    }\n",
       "\n",
       "    .dataframe thead th {\n",
       "        text-align: right;\n",
       "    }\n",
       "</style>\n",
       "<table border=\"1\" class=\"dataframe\">\n",
       "  <thead>\n",
       "    <tr style=\"text-align: right;\">\n",
       "      <th></th>\n",
       "      <th>temp</th>\n",
       "      <th>Month</th>\n",
       "      <th>Year</th>\n",
       "      <th>rain</th>\n",
       "    </tr>\n",
       "  </thead>\n",
       "  <tbody>\n",
       "    <tr>\n",
       "      <th>0</th>\n",
       "      <td>16.976000</td>\n",
       "      <td>1</td>\n",
       "      <td>1901</td>\n",
       "      <td>18.535600</td>\n",
       "    </tr>\n",
       "    <tr>\n",
       "      <th>1</th>\n",
       "      <td>19.902600</td>\n",
       "      <td>2</td>\n",
       "      <td>1901</td>\n",
       "      <td>16.254800</td>\n",
       "    </tr>\n",
       "    <tr>\n",
       "      <th>2</th>\n",
       "      <td>24.315800</td>\n",
       "      <td>3</td>\n",
       "      <td>1901</td>\n",
       "      <td>70.798100</td>\n",
       "    </tr>\n",
       "    <tr>\n",
       "      <th>3</th>\n",
       "      <td>28.183400</td>\n",
       "      <td>4</td>\n",
       "      <td>1901</td>\n",
       "      <td>66.161600</td>\n",
       "    </tr>\n",
       "    <tr>\n",
       "      <th>4</th>\n",
       "      <td>27.889200</td>\n",
       "      <td>5</td>\n",
       "      <td>1901</td>\n",
       "      <td>267.215000</td>\n",
       "    </tr>\n",
       "    <tr>\n",
       "      <th>...</th>\n",
       "      <td>...</td>\n",
       "      <td>...</td>\n",
       "      <td>...</td>\n",
       "      <td>...</td>\n",
       "    </tr>\n",
       "    <tr>\n",
       "      <th>1469</th>\n",
       "      <td>28.586394</td>\n",
       "      <td>6</td>\n",
       "      <td>2023</td>\n",
       "      <td>299.915166</td>\n",
       "    </tr>\n",
       "    <tr>\n",
       "      <th>1470</th>\n",
       "      <td>28.533089</td>\n",
       "      <td>7</td>\n",
       "      <td>2023</td>\n",
       "      <td>353.399033</td>\n",
       "    </tr>\n",
       "    <tr>\n",
       "      <th>1471</th>\n",
       "      <td>28.451926</td>\n",
       "      <td>8</td>\n",
       "      <td>2023</td>\n",
       "      <td>421.058714</td>\n",
       "    </tr>\n",
       "    <tr>\n",
       "      <th>1472</th>\n",
       "      <td>27.737212</td>\n",
       "      <td>9</td>\n",
       "      <td>2023</td>\n",
       "      <td>306.090925</td>\n",
       "    </tr>\n",
       "    <tr>\n",
       "      <th>1473</th>\n",
       "      <td>26.015523</td>\n",
       "      <td>10</td>\n",
       "      <td>2023</td>\n",
       "      <td>320.779073</td>\n",
       "    </tr>\n",
       "  </tbody>\n",
       "</table>\n",
       "<p>1474 rows × 4 columns</p>\n",
       "</div>"
      ],
      "text/plain": [
       "           temp  Month  Year        rain\n",
       "0     16.976000      1  1901   18.535600\n",
       "1     19.902600      2  1901   16.254800\n",
       "2     24.315800      3  1901   70.798100\n",
       "3     28.183400      4  1901   66.161600\n",
       "4     27.889200      5  1901  267.215000\n",
       "...         ...    ...   ...         ...\n",
       "1469  28.586394      6  2023  299.915166\n",
       "1470  28.533089      7  2023  353.399033\n",
       "1471  28.451926      8  2023  421.058714\n",
       "1472  27.737212      9  2023  306.090925\n",
       "1473  26.015523     10  2023  320.779073\n",
       "\n",
       "[1474 rows x 4 columns]"
      ]
     },
     "execution_count": 12,
     "metadata": {},
     "output_type": "execute_result"
    }
   ],
   "source": [
    "data"
   ]
  },
  {
   "cell_type": "code",
   "execution_count": 13,
   "id": "7d6ed34d-bc7e-4c30-ab60-e2b2f4f4fce3",
   "metadata": {},
   "outputs": [
    {
     "name": "stderr",
     "output_type": "stream",
     "text": [
      "<>:1: SyntaxWarning: invalid escape sequence '\\S'\n",
      "<>:1: SyntaxWarning: invalid escape sequence '\\S'\n",
      "C:\\Users\\utsa7\\AppData\\Local\\Temp\\ipykernel_12772\\3927160081.py:1: SyntaxWarning: invalid escape sequence '\\S'\n",
      "  ''''\n"
     ]
    },
    {
     "data": {
      "text/plain": [
       "'\\'\\n\\nDRIVER_NAME = \\'SQL SERVER\\'                      #connect notebook to sql server\\nSERVER_NAME = \\'DESKTOP-7FRNU14\\\\SQLEXPRESS\\'\\nDATABASE_NAME = \\'S_temp_and_rain_dataset\\'\\n\\n#uid<kingC>;\\n#pwd<12345>;\\nconnection_string = f\"\"\"\\n    DRIVER={{{DRIVER_NAME}}};\\n    SERVER={SERVER_NAME};\\n    DATABASE={DATABASE_NAME};\\n    Trust_Connection = yes;\\n    \\n\\n\"\"\"\\nconn = odbc.connect(connection_string)\\nprint(conn)   \\n\\n'"
      ]
     },
     "execution_count": 13,
     "metadata": {},
     "output_type": "execute_result"
    }
   ],
   "source": [
    "''''\n",
    "\n",
    "DRIVER_NAME = 'SQL SERVER'                      #connect notebook to sql server\n",
    "SERVER_NAME = 'DESKTOP-7FRNU14\\SQLEXPRESS'\n",
    "DATABASE_NAME = 'S_temp_and_rain_dataset'\n",
    "\n",
    "#uid<kingC>;\n",
    "#pwd<12345>;\n",
    "connection_string = f\"\"\"\n",
    "    DRIVER={{{DRIVER_NAME}}};\n",
    "    SERVER={SERVER_NAME};\n",
    "    DATABASE={DATABASE_NAME};\n",
    "    Trust_Connection = yes;\n",
    "    \n",
    "\n",
    "\"\"\"\n",
    "conn = odbc.connect(connection_string)\n",
    "print(conn)   \n",
    "\n",
    "'''\n"
   ]
  },
  {
   "cell_type": "code",
   "execution_count": 14,
   "id": "9c288dda-398b-45e5-947f-830667d52f53",
   "metadata": {},
   "outputs": [
    {
     "data": {
      "image/png": "[encoded data removed]",
      "text/plain": [
       "<Figure size 1200x600 with 1 Axes>"
      ]
     },
     "metadata": {},
     "output_type": "display_data"
    },
    {
     "data": {
      "image/png": "[encoded data removed]",
      "text/plain": [
       "<Figure size 1200x600 with 1 Axes>"
      ]
     },
     "metadata": {},
     "output_type": "display_data"
    }
   ],
   "source": [
    "    # Group by Month and calculate the average temperature and total rainfall\n",
    "monthly_avg_temp = data.groupby('Month')['temp'].mean()\n",
    "monthly_total_rain = data.groupby('Month')['rain'].sum()\n",
    "\n",
    "    # Create a bar plot for average temperature\n",
    "plt.figure(figsize=(12, 6))\n",
    "plt.bar(monthly_avg_temp.index, monthly_avg_temp, color='skyblue', label='Average Temperature')\n",
    "plt.ylabel('Average Temperature')\n",
    "plt.title('Average Temperature by Month')\n",
    "plt.xticks(rotation=45)\n",
    "plt.legend()\n",
    "plt.show()\n",
    "\n",
    "    # Optionally, you can create a second bar plot for total rainfall\n",
    "plt.figure(figsize=(12, 6))\n",
    "plt.bar(monthly_total_rain.index, monthly_total_rain, color='lightgreen', label='Total Rainfall')\n",
    "plt.ylabel('Total Rainfall')\n",
    "plt.title('Total Rainfall by Month')\n",
    "plt.xticks(rotation=45)\n",
    "plt.legend()\n",
    "plt.show()"
   ]
  },
  {
   "cell_type": "code",
   "execution_count": 15,
   "id": "84b79018-7654-4864-a563-ed9c178a357b",
   "metadata": {},
   "outputs": [
    {
     "data": {
      "text/plain": [
       "<Axes: >"
      ]
     },
     "execution_count": 15,
     "metadata": {},
     "output_type": "execute_result"
    },
    {
     "data": {
      "image/png": "[encoded data removed]",
      "text/plain": [
       "<Figure size 640x480 with 2 Axes>"
      ]
     },
     "metadata": {},
     "output_type": "display_data"
    }
   ],
   "source": [
    "sns.heatmap(data.corr(), annot=True)\n"
   ]
  },
  {
   "cell_type": "code",
   "execution_count": 16,
   "id": "d959bc7f-19db-4d6b-84cf-b13703552a74",
   "metadata": {},
   "outputs": [
    {
     "data": {
      "image/png": "[encoded data removed]",
      "text/plain": [
       "<Figure size 1200x600 with 1 Axes>"
      ]
     },
     "metadata": {},
     "output_type": "display_data"
    }
   ],
   "source": [
    "TempOverYears = data.groupby('Year')['temp'].mean()\n",
    "\n",
    "plt.figure(figsize=(12, 6))\n",
    "plt.bar(TempOverYears.index, TempOverYears, color='skyblue', label='Temperature Over the Years')\n",
    "plt.ylabel('Temperature')\n",
    "plt.title('Temperature Over the Years')\n",
    "plt.xticks(rotation=45)\n",
    "plt.legend()\n",
    "plt.show()"
   ]
  },
  {
   "cell_type": "code",
   "execution_count": null,
   "id": "66d714a3",
   "metadata": {},
   "outputs": [],
   "source": []
  },
  {
   "cell_type": "code",
   "execution_count": null,
   "id": "07207c2b-6e33-47a6-b31e-47f98c0a69b7",
   "metadata": {},
   "outputs": [],
   "source": []
  }
 ],
 "metadata": {
  "kernelspec": {
   "display_name": "Python 3",
   "language": "python",
   "name": "python3"
  },
  "language_info": {
   "codemirror_mode": {
    "name": "ipython",
    "version": 3
   },
   "file_extension": ".py",
   "mimetype": "text/x-python",
   "name": "python",
   "nbconvert_exporter": "python",
   "pygments_lexer": "ipython3",
   "version": "3.12.5"
  }
 },
 "nbformat": 4,
 "nbformat_minor": 5
}
